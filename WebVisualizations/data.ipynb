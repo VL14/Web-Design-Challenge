{
 "nbformat": 4,
 "nbformat_minor": 2,
 "metadata": {
  "language_info": {
   "name": "python",
   "codemirror_mode": {
    "name": "ipython",
    "version": 3
   },
   "version": "3.6.10-final"
  },
  "orig_nbformat": 2,
  "file_extension": ".py",
  "mimetype": "text/x-python",
  "name": "python",
  "npconvert_exporter": "python",
  "pygments_lexer": "ipython3",
  "version": 3,
  "kernelspec": {
   "name": "python37664bitpythondataconda7b76faf93e6a485bb209245349a7d6ad",
   "display_name": "Python 3.7.6 64-bit ('PythonData': conda)"
  }
 },
 "cells": [
  {
   "cell_type": "code",
   "execution_count": 1,
   "metadata": {},
   "outputs": [],
   "source": [
    "import csv\n",
    "import pandas as pd"
   ]
  },
  {
   "cell_type": "code",
   "execution_count": 2,
   "metadata": {},
   "outputs": [],
   "source": [
    "# Import file\n",
    "file = 'Resources/Weather_Pycode_Data.csv'"
   ]
  },
  {
   "cell_type": "code",
   "execution_count": 4,
   "metadata": {},
   "outputs": [
    {
     "output_type": "execute_result",
     "data": {
      "text/plain": "              0 country    lat     lon  temp_max  humidity   all  speed  \\\n0        Sittwe      MM  20.15   92.90     77.67      52.0   0.0   8.32   \n1         Kapaa      US  22.08 -159.32     78.80      88.0  90.0  18.34   \n2  Punta Arenas      CL -53.15  -70.92     53.60      93.0  90.0  11.41   \n3           NaN     NaN    NaN     NaN       NaN       NaN   NaN    NaN   \n4   Kinablangan      PH   7.69  126.55     78.93      79.0  16.0   7.20   \n\n            0.1  \n0  1.584931e+09  \n1  1.584931e+09  \n2  1.584931e+09  \n3           NaN  \n4  1.584931e+09  ",
      "text/html": "<div>\n<style scoped>\n    .dataframe tbody tr th:only-of-type {\n        vertical-align: middle;\n    }\n\n    .dataframe tbody tr th {\n        vertical-align: top;\n    }\n\n    .dataframe thead th {\n        text-align: right;\n    }\n</style>\n<table border=\"1\" class=\"dataframe\">\n  <thead>\n    <tr style=\"text-align: right;\">\n      <th></th>\n      <th>0</th>\n      <th>country</th>\n      <th>lat</th>\n      <th>lon</th>\n      <th>temp_max</th>\n      <th>humidity</th>\n      <th>all</th>\n      <th>speed</th>\n      <th>0.1</th>\n    </tr>\n  </thead>\n  <tbody>\n    <tr>\n      <th>0</th>\n      <td>Sittwe</td>\n      <td>MM</td>\n      <td>20.15</td>\n      <td>92.90</td>\n      <td>77.67</td>\n      <td>52.0</td>\n      <td>0.0</td>\n      <td>8.32</td>\n      <td>1.584931e+09</td>\n    </tr>\n    <tr>\n      <th>1</th>\n      <td>Kapaa</td>\n      <td>US</td>\n      <td>22.08</td>\n      <td>-159.32</td>\n      <td>78.80</td>\n      <td>88.0</td>\n      <td>90.0</td>\n      <td>18.34</td>\n      <td>1.584931e+09</td>\n    </tr>\n    <tr>\n      <th>2</th>\n      <td>Punta Arenas</td>\n      <td>CL</td>\n      <td>-53.15</td>\n      <td>-70.92</td>\n      <td>53.60</td>\n      <td>93.0</td>\n      <td>90.0</td>\n      <td>11.41</td>\n      <td>1.584931e+09</td>\n    </tr>\n    <tr>\n      <th>3</th>\n      <td>NaN</td>\n      <td>NaN</td>\n      <td>NaN</td>\n      <td>NaN</td>\n      <td>NaN</td>\n      <td>NaN</td>\n      <td>NaN</td>\n      <td>NaN</td>\n      <td>NaN</td>\n    </tr>\n    <tr>\n      <th>4</th>\n      <td>Kinablangan</td>\n      <td>PH</td>\n      <td>7.69</td>\n      <td>126.55</td>\n      <td>78.93</td>\n      <td>79.0</td>\n      <td>16.0</td>\n      <td>7.20</td>\n      <td>1.584931e+09</td>\n    </tr>\n  </tbody>\n</table>\n</div>"
     },
     "metadata": {},
     "execution_count": 4
    }
   ],
   "source": [
    "# Put data into a dataframe\n",
    "df = pd.read_csv(file)\n",
    "df.head()"
   ]
  },
  {
   "cell_type": "code",
   "execution_count": 7,
   "metadata": {},
   "outputs": [
    {
     "output_type": "execute_result",
     "data": {
      "text/plain": "                   0 country    lat     lon  temp_max  humidity    all  speed  \\\n0             Sittwe      MM  20.15   92.90     77.67      52.0    0.0   8.32   \n1              Kapaa      US  22.08 -159.32     78.80      88.0   90.0  18.34   \n2       Punta Arenas      CL -53.15  -70.92     53.60      93.0   90.0  11.41   \n4        Kinablangan      PH   7.69  126.55     78.93      79.0   16.0   7.20   \n5               Brae      GB  60.40   -1.35     42.80      81.0  100.0  27.51   \n..               ...     ...    ...     ...       ...       ...    ...    ...   \n593          Tazmalt      DZ  36.39    4.40     50.00      93.0   40.0   5.82   \n594       Balkanabat      TM  39.51   54.37     48.33      52.0  100.0  11.05   \n595          Kitimat      CA  54.05 -128.65     39.20      86.0   90.0   3.36   \n596           Shīeli      KZ  44.17   66.75     44.91      41.0   76.0  21.43   \n597  Charters Towers      AU -20.10  146.27     86.13      58.0   71.0  15.52   \n\n              0.1  \n0    1.584931e+09  \n1    1.584931e+09  \n2    1.584931e+09  \n4    1.584931e+09  \n5    1.584931e+09  \n..            ...  \n593  1.584931e+09  \n594  1.584931e+09  \n595  1.584931e+09  \n596  1.584931e+09  \n597  1.584931e+09  \n\n[532 rows x 9 columns]",
      "text/html": "<div>\n<style scoped>\n    .dataframe tbody tr th:only-of-type {\n        vertical-align: middle;\n    }\n\n    .dataframe tbody tr th {\n        vertical-align: top;\n    }\n\n    .dataframe thead th {\n        text-align: right;\n    }\n</style>\n<table border=\"1\" class=\"dataframe\">\n  <thead>\n    <tr style=\"text-align: right;\">\n      <th></th>\n      <th>0</th>\n      <th>country</th>\n      <th>lat</th>\n      <th>lon</th>\n      <th>temp_max</th>\n      <th>humidity</th>\n      <th>all</th>\n      <th>speed</th>\n      <th>0.1</th>\n    </tr>\n  </thead>\n  <tbody>\n    <tr>\n      <th>0</th>\n      <td>Sittwe</td>\n      <td>MM</td>\n      <td>20.15</td>\n      <td>92.90</td>\n      <td>77.67</td>\n      <td>52.0</td>\n      <td>0.0</td>\n      <td>8.32</td>\n      <td>1.584931e+09</td>\n    </tr>\n    <tr>\n      <th>1</th>\n      <td>Kapaa</td>\n      <td>US</td>\n      <td>22.08</td>\n      <td>-159.32</td>\n      <td>78.80</td>\n      <td>88.0</td>\n      <td>90.0</td>\n      <td>18.34</td>\n      <td>1.584931e+09</td>\n    </tr>\n    <tr>\n      <th>2</th>\n      <td>Punta Arenas</td>\n      <td>CL</td>\n      <td>-53.15</td>\n      <td>-70.92</td>\n      <td>53.60</td>\n      <td>93.0</td>\n      <td>90.0</td>\n      <td>11.41</td>\n      <td>1.584931e+09</td>\n    </tr>\n    <tr>\n      <th>4</th>\n      <td>Kinablangan</td>\n      <td>PH</td>\n      <td>7.69</td>\n      <td>126.55</td>\n      <td>78.93</td>\n      <td>79.0</td>\n      <td>16.0</td>\n      <td>7.20</td>\n      <td>1.584931e+09</td>\n    </tr>\n    <tr>\n      <th>5</th>\n      <td>Brae</td>\n      <td>GB</td>\n      <td>60.40</td>\n      <td>-1.35</td>\n      <td>42.80</td>\n      <td>81.0</td>\n      <td>100.0</td>\n      <td>27.51</td>\n      <td>1.584931e+09</td>\n    </tr>\n    <tr>\n      <th>...</th>\n      <td>...</td>\n      <td>...</td>\n      <td>...</td>\n      <td>...</td>\n      <td>...</td>\n      <td>...</td>\n      <td>...</td>\n      <td>...</td>\n      <td>...</td>\n    </tr>\n    <tr>\n      <th>593</th>\n      <td>Tazmalt</td>\n      <td>DZ</td>\n      <td>36.39</td>\n      <td>4.40</td>\n      <td>50.00</td>\n      <td>93.0</td>\n      <td>40.0</td>\n      <td>5.82</td>\n      <td>1.584931e+09</td>\n    </tr>\n    <tr>\n      <th>594</th>\n      <td>Balkanabat</td>\n      <td>TM</td>\n      <td>39.51</td>\n      <td>54.37</td>\n      <td>48.33</td>\n      <td>52.0</td>\n      <td>100.0</td>\n      <td>11.05</td>\n      <td>1.584931e+09</td>\n    </tr>\n    <tr>\n      <th>595</th>\n      <td>Kitimat</td>\n      <td>CA</td>\n      <td>54.05</td>\n      <td>-128.65</td>\n      <td>39.20</td>\n      <td>86.0</td>\n      <td>90.0</td>\n      <td>3.36</td>\n      <td>1.584931e+09</td>\n    </tr>\n    <tr>\n      <th>596</th>\n      <td>Shīeli</td>\n      <td>KZ</td>\n      <td>44.17</td>\n      <td>66.75</td>\n      <td>44.91</td>\n      <td>41.0</td>\n      <td>76.0</td>\n      <td>21.43</td>\n      <td>1.584931e+09</td>\n    </tr>\n    <tr>\n      <th>597</th>\n      <td>Charters Towers</td>\n      <td>AU</td>\n      <td>-20.10</td>\n      <td>146.27</td>\n      <td>86.13</td>\n      <td>58.0</td>\n      <td>71.0</td>\n      <td>15.52</td>\n      <td>1.584931e+09</td>\n    </tr>\n  </tbody>\n</table>\n<p>532 rows × 9 columns</p>\n</div>"
     },
     "metadata": {},
     "execution_count": 7
    }
   ],
   "source": [
    "df2 = df.dropna()\n",
    "df2"
   ]
  },
  {
   "cell_type": "code",
   "execution_count": 10,
   "metadata": {
    "tags": [
     "outputPrepend"
    ]
   },
   "outputs": [
    {
     "output_type": "error",
     "ename": "NameError",
     "evalue": "name 'data' is not defined",
     "traceback": [
      "\u001b[1;31m---------------------------------------------------------------------------\u001b[0m",
      "\u001b[1;31mNameError\u001b[0m                                 Traceback (most recent call last)",
      "\u001b[1;32m<ipython-input-10-69cf3e22d525>\u001b[0m in \u001b[0;36m<module>\u001b[1;34m\u001b[0m\n\u001b[0;32m      1\u001b[0m \u001b[1;31m# Render dataframe as html\u001b[0m\u001b[1;33m\u001b[0m\u001b[1;33m\u001b[0m\u001b[1;33m\u001b[0m\u001b[0m\n\u001b[1;32m----> 2\u001b[1;33m \u001b[0mhtml\u001b[0m \u001b[1;33m=\u001b[0m \u001b[0mdf2\u001b[0m\u001b[1;33m.\u001b[0m\u001b[0mto_html\u001b[0m\u001b[1;33m(\u001b[0m\u001b[0mdata\u001b[0m\u001b[1;33m.\u001b[0m\u001b[0mhtml\u001b[0m\u001b[1;33m,\u001b[0m \u001b[0mindex\u001b[0m\u001b[1;33m=\u001b[0m\u001b[1;32mFalse\u001b[0m\u001b[1;33m,\u001b[0m \u001b[0mclasses\u001b[0m\u001b[1;33m=\u001b[0m\u001b[1;33m[\u001b[0m\u001b[0mtable\u001b[0m\u001b[1;33m]\u001b[0m\u001b[1;33m)\u001b[0m\u001b[1;33m\u001b[0m\u001b[1;33m\u001b[0m\u001b[0m\n\u001b[0m",
      "\u001b[1;31mNameError\u001b[0m: name 'data' is not defined"
     ]
    }
   ],
   "source": [
    "# Render dataframe as html\n",
    "html = df2.to_html(\"data.html\", index=False, classes=[table])"
   ]
  },
  {
   "cell_type": "code",
   "execution_count": null,
   "metadata": {},
   "outputs": [],
   "source": []
  }
 ]
}